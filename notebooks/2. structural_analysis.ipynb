{
 "cells": [
  {
   "cell_type": "markdown",
   "id": "af7ec8b4",
   "metadata": {},
   "source": [
    "# Structural Analysis"
   ]
  },
  {
   "cell_type": "code",
   "execution_count": 1,
   "id": "6f9f39f6",
   "metadata": {
    "ExecuteTime": {
     "end_time": "2021-11-11T12:29:41.112451Z",
     "start_time": "2021-11-11T12:29:39.838934Z"
    }
   },
   "outputs": [],
   "source": [
    "import os\n",
    "import sys\n",
    "\n",
    "import numpy as np\n",
    "import pandas as pd\n",
    "import scipy.stats as sps\n",
    "import networkx as nx\n",
    "\n",
    "import matplotlib.pyplot as plt\n",
    "import seaborn as sns\n",
    "from IPython.display import display\n",
    "from tqdm.notebook import tqdm\n",
    "\n",
    "sns.set(font_scale=1.3)"
   ]
  },
  {
   "cell_type": "code",
   "execution_count": 2,
   "id": "3de10597",
   "metadata": {
    "ExecuteTime": {
     "end_time": "2021-11-11T16:46:17.635056Z",
     "start_time": "2021-11-11T16:46:17.628459Z"
    }
   },
   "outputs": [],
   "source": [
    "DATA_PREFIX = os.path.join(os.pardir, 'data')\n",
    "FIGURES_PREFIX = os.path.join(os.pardir, 'figures')"
   ]
  },
  {
   "cell_type": "code",
   "execution_count": 3,
   "id": "76c34caf",
   "metadata": {
    "ExecuteTime": {
     "end_time": "2021-11-11T13:05:05.268356Z",
     "start_time": "2021-11-11T13:05:05.108643Z"
    }
   },
   "outputs": [],
   "source": [
    "g = nx.read_gml(os.path.join(DATA_PREFIX, 'graph.gml'))\n",
    "\n",
    "connected_components = list(nx.connected_components(g))\n",
    "connected_components.sort(key=lambda x: len(x), reverse=True)\n",
    "biggest_cc = connected_components[0]\n",
    "g_sub = g.subgraph(biggest_cc)"
   ]
  },
  {
   "cell_type": "markdown",
   "id": "05bc34a7",
   "metadata": {},
   "source": [
    "## Comparison with random graphs"
   ]
  },
  {
   "cell_type": "markdown",
   "id": "8942ae25",
   "metadata": {},
   "source": [
    "Let's look how ego-network is compared to random graph models:\n",
    "* Erdos-Renyi\n",
    "* Barabasi-Albert\n",
    "* Watts-Strogatz"
   ]
  },
  {
   "cell_type": "markdown",
   "id": "ee13ce89",
   "metadata": {},
   "source": [
    "Remember our graph parameters:"
   ]
  },
  {
   "cell_type": "code",
   "execution_count": 4,
   "id": "c1480aef",
   "metadata": {
    "ExecuteTime": {
     "end_time": "2021-11-11T12:29:41.254701Z",
     "start_time": "2021-11-11T12:29:41.250470Z"
    }
   },
   "outputs": [],
   "source": [
    "def print_our_graph_parameters():\n",
    "    average_length = nx.average_shortest_path_length(g_sub)\n",
    "    print(f'Average path length: {average_length:.3f}')\n",
    "    print(f'Clustering coefficient: {nx.average_clustering(g):.3f}')"
   ]
  },
  {
   "cell_type": "code",
   "execution_count": 5,
   "id": "58534dc8",
   "metadata": {
    "ExecuteTime": {
     "end_time": "2021-11-11T12:29:41.997613Z",
     "start_time": "2021-11-11T12:29:41.257755Z"
    }
   },
   "outputs": [
    {
     "name": "stdout",
     "output_type": "stream",
     "text": [
      "Average path length: 3.499\n",
      "Clustering coefficient: 0.577\n"
     ]
    }
   ],
   "source": [
    "print_our_graph_parameters()"
   ]
  },
  {
   "cell_type": "code",
   "execution_count": 6,
   "id": "0bb8e48c",
   "metadata": {
    "ExecuteTime": {
     "end_time": "2021-11-11T12:29:42.021101Z",
     "start_time": "2021-11-11T12:29:42.002781Z"
    }
   },
   "outputs": [
    {
     "data": {
      "text/plain": [
       "count    133.000000\n",
       "mean      22.030075\n",
       "std       14.189700\n",
       "min        0.000000\n",
       "25%       11.000000\n",
       "50%       21.000000\n",
       "75%       32.000000\n",
       "max       53.000000\n",
       "dtype: float64"
      ]
     },
     "execution_count": 6,
     "metadata": {},
     "output_type": "execute_result"
    }
   ],
   "source": [
    "degrees = np.array(list(dict(g.degree()).values()))\n",
    "pd.Series(degrees).describe()"
   ]
  },
  {
   "cell_type": "code",
   "execution_count": 7,
   "id": "6d8a2e53",
   "metadata": {
    "ExecuteTime": {
     "end_time": "2021-11-11T12:29:42.434760Z",
     "start_time": "2021-11-11T12:29:42.024331Z"
    }
   },
   "outputs": [
    {
     "data": {
      "image/png": "[encoded data removed]",
      "text/plain": [
       "<Figure size 864x432 with 1 Axes>"
      ]
     },
     "metadata": {},
     "output_type": "display_data"
    }
   ],
   "source": [
    "with sns.axes_style('whitegrid'):\n",
    "    plt.figure(figsize=(12, 6))\n",
    "    sns.histplot(degrees, bins=np.max(degrees))\n",
    "    plt.title('Distribution of degree')\n",
    "    plt.show()"
   ]
  },
  {
   "cell_type": "markdown",
   "id": "0cd6db93",
   "metadata": {},
   "source": [
    "### Erdos-Renyi"
   ]
  },
  {
   "cell_type": "markdown",
   "id": "7e2a0d34",
   "metadata": {},
   "source": [
    "It is random graph model."
   ]
  },
  {
   "cell_type": "markdown",
   "id": "4ce105af",
   "metadata": {},
   "source": [
    "First, let's try to fit a degree distribution. We will change many "
   ]
  },
  {
   "cell_type": "code",
   "execution_count": 8,
   "id": "8b8a2c1e",
   "metadata": {
    "ExecuteTime": {
     "end_time": "2021-11-11T12:38:38.810001Z",
     "start_time": "2021-11-11T12:29:42.440136Z"
    }
   },
   "outputs": [
    {
     "data": {
      "application/vnd.jupyter.widget-view+json": {
       "model_id": "3d14e0b6af03439c8783d074de720dcd",
       "version_major": 2,
       "version_minor": 0
      },
      "text/plain": [
       "  0%|          | 0/100 [00:00<?, ?it/s]"
      ]
     },
     "metadata": {},
     "output_type": "display_data"
    }
   ],
   "source": [
    "p_values = np.linspace(0, 0.5, 100) + 1e-3\n",
    "num_trials = 1000\n",
    "results = {'p': [], 'statistic': [],'seed': []}\n",
    "for p in tqdm(p_values):\n",
    "    for seed in range(num_trials):\n",
    "        g_re = nx.erdos_renyi_graph(n=g.number_of_nodes(), p=p, seed=seed)\n",
    "        degrees_temp = np.array(list(dict(g_re.degree()).values()))\n",
    "        statistic = sps.ks_2samp(degrees, degrees_temp).statistic\n",
    "        results['p'].append(p)\n",
    "        results['statistic'].append(statistic)\n",
    "        results['seed'].append(seed)"
   ]
  },
  {
   "cell_type": "code",
   "execution_count": 9,
   "id": "2a382406",
   "metadata": {
    "ExecuteTime": {
     "end_time": "2021-11-11T12:38:38.940829Z",
     "start_time": "2021-11-11T12:38:38.814395Z"
    }
   },
   "outputs": [
    {
     "data": {
      "text/html": [
       "<div>\n",
       "<style scoped>\n",
       "    .dataframe tbody tr th:only-of-type {\n",
       "        vertical-align: middle;\n",
       "    }\n",
       "\n",
       "    .dataframe tbody tr th {\n",
       "        vertical-align: top;\n",
       "    }\n",
       "\n",
       "    .dataframe thead th {\n",
       "        text-align: right;\n",
       "    }\n",
       "</style>\n",
       "<table border=\"1\" class=\"dataframe\">\n",
       "  <thead>\n",
       "    <tr style=\"text-align: right;\">\n",
       "      <th></th>\n",
       "      <th>p</th>\n",
       "      <th>statistic</th>\n",
       "      <th>seed</th>\n",
       "    </tr>\n",
       "  </thead>\n",
       "  <tbody>\n",
       "    <tr>\n",
       "      <th>32582</th>\n",
       "      <td>0.162616</td>\n",
       "      <td>0.248120</td>\n",
       "      <td>582</td>\n",
       "    </tr>\n",
       "    <tr>\n",
       "      <th>33183</th>\n",
       "      <td>0.167667</td>\n",
       "      <td>0.248120</td>\n",
       "      <td>183</td>\n",
       "    </tr>\n",
       "    <tr>\n",
       "      <th>32183</th>\n",
       "      <td>0.162616</td>\n",
       "      <td>0.248120</td>\n",
       "      <td>183</td>\n",
       "    </tr>\n",
       "    <tr>\n",
       "      <th>31170</th>\n",
       "      <td>0.157566</td>\n",
       "      <td>0.255639</td>\n",
       "      <td>170</td>\n",
       "    </tr>\n",
       "    <tr>\n",
       "      <th>31515</th>\n",
       "      <td>0.157566</td>\n",
       "      <td>0.255639</td>\n",
       "      <td>515</td>\n",
       "    </tr>\n",
       "    <tr>\n",
       "      <th>...</th>\n",
       "      <td>...</td>\n",
       "      <td>...</td>\n",
       "      <td>...</td>\n",
       "    </tr>\n",
       "    <tr>\n",
       "      <th>99484</th>\n",
       "      <td>0.501000</td>\n",
       "      <td>1.000000</td>\n",
       "      <td>484</td>\n",
       "    </tr>\n",
       "    <tr>\n",
       "      <th>98710</th>\n",
       "      <td>0.495949</td>\n",
       "      <td>1.000000</td>\n",
       "      <td>710</td>\n",
       "    </tr>\n",
       "    <tr>\n",
       "      <th>99490</th>\n",
       "      <td>0.501000</td>\n",
       "      <td>1.000000</td>\n",
       "      <td>490</td>\n",
       "    </tr>\n",
       "    <tr>\n",
       "      <th>97895</th>\n",
       "      <td>0.490899</td>\n",
       "      <td>1.000000</td>\n",
       "      <td>895</td>\n",
       "    </tr>\n",
       "    <tr>\n",
       "      <th>96808</th>\n",
       "      <td>0.485848</td>\n",
       "      <td>1.000000</td>\n",
       "      <td>808</td>\n",
       "    </tr>\n",
       "  </tbody>\n",
       "</table>\n",
       "<p>100000 rows × 3 columns</p>\n",
       "</div>"
      ],
      "text/plain": [
       "              p  statistic  seed\n",
       "32582  0.162616   0.248120   582\n",
       "33183  0.167667   0.248120   183\n",
       "32183  0.162616   0.248120   183\n",
       "31170  0.157566   0.255639   170\n",
       "31515  0.157566   0.255639   515\n",
       "...         ...        ...   ...\n",
       "99484  0.501000   1.000000   484\n",
       "98710  0.495949   1.000000   710\n",
       "99490  0.501000   1.000000   490\n",
       "97895  0.490899   1.000000   895\n",
       "96808  0.485848   1.000000   808\n",
       "\n",
       "[100000 rows x 3 columns]"
      ]
     },
     "execution_count": 9,
     "metadata": {},
     "output_type": "execute_result"
    }
   ],
   "source": [
    "results_df = pd.DataFrame(results)\n",
    "results_df.sort_values(by='statistic', ascending=True)"
   ]
  },
  {
   "cell_type": "code",
   "execution_count": 10,
   "id": "c8727d88",
   "metadata": {
    "ExecuteTime": {
     "end_time": "2021-11-11T12:38:38.981312Z",
     "start_time": "2021-11-11T12:38:38.943592Z"
    }
   },
   "outputs": [],
   "source": [
    "best_p = results_df.sort_values(by='statistic', ascending=True).iloc[0]['p']\n",
    "best_seed = int(results_df.sort_values(by='statistic', ascending=True).iloc[0]['seed'])\n",
    "g_re = nx.erdos_renyi_graph(n=g.number_of_nodes(), p=best_p, seed=best_seed)"
   ]
  },
  {
   "cell_type": "markdown",
   "id": "a85f29fe",
   "metadata": {},
   "source": [
    "Now let's compare degree distributions visually."
   ]
  },
  {
   "cell_type": "code",
   "execution_count": 11,
   "id": "c2a7e4c7",
   "metadata": {
    "ExecuteTime": {
     "end_time": "2021-11-11T12:38:39.632646Z",
     "start_time": "2021-11-11T12:38:38.984097Z"
    }
   },
   "outputs": [
    {
     "data": {
      "image/png": "[encoded data removed]",
      "text/plain": [
       "<Figure size 864x864 with 2 Axes>"
      ]
     },
     "metadata": {},
     "output_type": "display_data"
    }
   ],
   "source": [
    "degrees_re = np.array(list(dict(g_re.degree()).values()))\n",
    "\n",
    "with sns.axes_style('whitegrid'):\n",
    "    plt.figure(figsize=(12, 12))\n",
    "    plt.subplot(2, 1, 1)\n",
    "    sns.histplot(degrees, bins=np.max(degrees))\n",
    "    plt.title('Distribution of degree')\n",
    "    \n",
    "    plt.subplot(2, 1, 2)\n",
    "    sns.histplot(degrees_re, bins=np.max(degrees_re))\n",
    "    plt.title('Distribution of degree for EF')\n",
    "    \n",
    "    plt.show()"
   ]
  },
  {
   "cell_type": "markdown",
   "id": "b0d8e1a4",
   "metadata": {},
   "source": [
    "Distributions don't seem very similar."
   ]
  },
  {
   "cell_type": "markdown",
   "id": "820374d5",
   "metadata": {},
   "source": [
    "Finally, let's compare average path len and clustering coefficient."
   ]
  },
  {
   "cell_type": "code",
   "execution_count": 12,
   "id": "e0d7fc38",
   "metadata": {
    "ExecuteTime": {
     "end_time": "2021-11-11T12:38:40.996196Z",
     "start_time": "2021-11-11T12:38:39.635914Z"
    }
   },
   "outputs": [
    {
     "name": "stdout",
     "output_type": "stream",
     "text": [
      "ER: Average path length: 1.878\n",
      "ER: Clustering coefficient: 0.158\n",
      "Average path length: 3.499\n",
      "Clustering coefficient: 0.577\n"
     ]
    }
   ],
   "source": [
    "connected_components = list(nx.connected_components(g_re))\n",
    "connected_components.sort(key=lambda x: len(x), reverse=True)\n",
    "biggest_cc = connected_components[0]\n",
    "g_re_sub = g_re.subgraph(biggest_cc)\n",
    "\n",
    "average_length = nx.average_shortest_path_length(g_re_sub)\n",
    "print(f'ER: Average path length: {average_length:.3f}')\n",
    "print(f'ER: Clustering coefficient: {nx.average_clustering(g_re):.3f}')\n",
    "\n",
    "print_our_graph_parameters()"
   ]
  },
  {
   "cell_type": "markdown",
   "id": "536e0779",
   "metadata": {},
   "source": [
    "Clustering coefficient differs drastically."
   ]
  },
  {
   "cell_type": "markdown",
   "id": "75643b5a",
   "metadata": {},
   "source": [
    "### Barabasi-Albert"
   ]
  },
  {
   "cell_type": "markdown",
   "id": "1a02288a",
   "metadata": {},
   "source": [
    "It is preferential attachment model."
   ]
  },
  {
   "cell_type": "markdown",
   "id": "8b0fe513",
   "metadata": {},
   "source": [
    "First, let's try to fit a degree distribution. We will change many "
   ]
  },
  {
   "cell_type": "code",
   "execution_count": null,
   "id": "7031e6d5",
   "metadata": {
    "ExecuteTime": {
     "end_time": "2021-11-11T12:41:01.711170Z",
     "start_time": "2021-11-11T12:38:40.998394Z"
    }
   },
   "outputs": [
    {
     "data": {
      "application/vnd.jupyter.widget-view+json": {
       "model_id": "825316ad5a5d4c49b1596f1b9262675f",
       "version_major": 2,
       "version_minor": 0
      },
      "text/plain": [
       "  0%|          | 0/6 [00:00<?, ?it/s]"
      ]
     },
     "metadata": {},
     "output_type": "display_data"
    }
   ],
   "source": [
    "m_values = np.arange(10, 16)\n",
    "num_trials = 5000\n",
    "results = {'m': [], 'statistic': [],'seed': []}\n",
    "for m in tqdm(m_values):\n",
    "    for seed in range(num_trials):\n",
    "        g_ba = nx.barabasi_albert_graph(n=g.number_of_nodes(), m=m, seed=seed)\n",
    "        degrees_temp = np.array(list(dict(g_ba.degree()).values()))\n",
    "        statistic = sps.ks_2samp(degrees, degrees_temp).statistic\n",
    "        results['m'].append(m)\n",
    "        results['statistic'].append(statistic)\n",
    "        results['seed'].append(seed)"
   ]
  },
  {
   "cell_type": "code",
   "execution_count": null,
   "id": "913b5983",
   "metadata": {
    "ExecuteTime": {
     "end_time": "2021-11-11T12:41:01.757608Z",
     "start_time": "2021-11-11T12:41:01.714280Z"
    }
   },
   "outputs": [],
   "source": [
    "results_df = pd.DataFrame(results)\n",
    "results_df.sort_values(by='statistic', ascending=True)"
   ]
  },
  {
   "cell_type": "markdown",
   "id": "69333625",
   "metadata": {},
   "source": [
    "We see here a more good fit according to statistic."
   ]
  },
  {
   "cell_type": "code",
   "execution_count": null,
   "id": "db45ce13",
   "metadata": {
    "ExecuteTime": {
     "end_time": "2021-11-11T12:41:01.774918Z",
     "start_time": "2021-11-11T12:41:01.759831Z"
    }
   },
   "outputs": [],
   "source": [
    "best_m = int(results_df.sort_values(by='statistic', ascending=True).iloc[0]['m'])\n",
    "best_seed = int(results_df.sort_values(by='statistic', ascending=True).iloc[0]['seed'])\n",
    "g_ba = nx.barabasi_albert_graph(n=g.number_of_nodes(), m=best_m, seed=best_seed)"
   ]
  },
  {
   "cell_type": "markdown",
   "id": "30a84186",
   "metadata": {},
   "source": [
    "Now let's compare degree distributions visually."
   ]
  },
  {
   "cell_type": "code",
   "execution_count": null,
   "id": "e6300647",
   "metadata": {
    "ExecuteTime": {
     "end_time": "2021-11-11T12:41:02.453406Z",
     "start_time": "2021-11-11T12:41:01.777850Z"
    }
   },
   "outputs": [],
   "source": [
    "degrees_ba = np.array(list(dict(g_ba.degree()).values()))\n",
    "\n",
    "with sns.axes_style('whitegrid'):\n",
    "    plt.figure(figsize=(12, 12))\n",
    "    plt.subplot(2, 1, 1)\n",
    "    sns.histplot(degrees, bins=np.max(degrees))\n",
    "    plt.title('Distribution of degree')\n",
    "    \n",
    "    plt.subplot(2, 1, 2)\n",
    "    sns.histplot(degrees_ba, bins=np.max(degrees_ba))\n",
    "    plt.title('Distribution of degree for BA')\n",
    "    \n",
    "    plt.show()"
   ]
  },
  {
   "cell_type": "markdown",
   "id": "7a2fc600",
   "metadata": {},
   "source": [
    "Distributions don't seem simiar around small values."
   ]
  },
  {
   "cell_type": "markdown",
   "id": "847c9622",
   "metadata": {},
   "source": [
    "Finally, let's compare average path len and clustering coefficient."
   ]
  },
  {
   "cell_type": "code",
   "execution_count": null,
   "id": "63e60852",
   "metadata": {
    "ExecuteTime": {
     "end_time": "2021-11-11T12:41:03.756996Z",
     "start_time": "2021-11-11T12:41:02.456161Z"
    }
   },
   "outputs": [],
   "source": [
    "connected_components = list(nx.connected_components(g_ba))\n",
    "connected_components.sort(key=lambda x: len(x), reverse=True)\n",
    "biggest_cc = connected_components[0]\n",
    "g_ba_sub = g_ba.subgraph(biggest_cc)\n",
    "\n",
    "average_length = nx.average_shortest_path_length(g_ba_sub)\n",
    "print(f'BA: Average path length: {average_length:.3f}')\n",
    "print(f'BA: Clustering coefficient: {nx.average_clustering(g_ba):.3f}')\n",
    "\n",
    "print_our_graph_parameters()"
   ]
  },
  {
   "cell_type": "markdown",
   "id": "a27896d2",
   "metadata": {},
   "source": [
    "Clustering coefficient looks better now."
   ]
  },
  {
   "cell_type": "markdown",
   "id": "15d84de4",
   "metadata": {},
   "source": [
    "### Watts-Strogatz"
   ]
  },
  {
   "cell_type": "markdown",
   "id": "108504d7",
   "metadata": {},
   "source": [
    "It is small world model."
   ]
  },
  {
   "cell_type": "markdown",
   "id": "3737337c",
   "metadata": {},
   "source": [
    "First, let's try to fit a degree distribution. We will change many "
   ]
  },
  {
   "cell_type": "code",
   "execution_count": null,
   "id": "524c4e92",
   "metadata": {
    "ExecuteTime": {
     "end_time": "2021-11-11T12:49:07.110172Z",
     "start_time": "2021-11-11T12:41:03.760934Z"
    }
   },
   "outputs": [],
   "source": [
    "k_values = np.arange(20, 29, 2)\n",
    "p_values = np.linspace(0, 0.5, 20) + 1e-3 \n",
    "num_trials = 1000\n",
    "results = {'k': [], 'p': [], 'statistic': [],'seed': []}\n",
    "for k in tqdm(k_values):\n",
    "    for p in p_values:\n",
    "        for seed in range(num_trials):\n",
    "            g_ws = nx.watts_strogatz_graph(n=g.number_of_nodes(), k=k, p=p, seed=seed)\n",
    "            degrees_temp = np.array(list(dict(g_ws.degree()).values()))\n",
    "            statistic = sps.ks_2samp(degrees, degrees_temp).statistic\n",
    "            results['k'].append(k)\n",
    "            results['p'].append(p)\n",
    "            results['statistic'].append(statistic)\n",
    "            results['seed'].append(seed)"
   ]
  },
  {
   "cell_type": "code",
   "execution_count": null,
   "id": "497cc562",
   "metadata": {
    "ExecuteTime": {
     "end_time": "2021-11-11T12:49:07.286113Z",
     "start_time": "2021-11-11T12:49:07.114623Z"
    }
   },
   "outputs": [],
   "source": [
    "results_df = pd.DataFrame(results)\n",
    "results_df.sort_values(by='statistic', ascending=True)"
   ]
  },
  {
   "cell_type": "markdown",
   "id": "cbf8e1b1",
   "metadata": {},
   "source": [
    "We see here a more good fit according to statistic."
   ]
  },
  {
   "cell_type": "code",
   "execution_count": null,
   "id": "1c8ff4ef",
   "metadata": {
    "ExecuteTime": {
     "end_time": "2021-11-11T12:49:07.351394Z",
     "start_time": "2021-11-11T12:49:07.294700Z"
    }
   },
   "outputs": [],
   "source": [
    "best_k = int(results_df.sort_values(by='statistic', ascending=True).iloc[0]['k'])\n",
    "best_p = results_df.sort_values(by='statistic', ascending=True).iloc[0]['p']\n",
    "best_seed = int(results_df.sort_values(by='statistic', ascending=True).iloc[0]['seed'])\n",
    "g_ws = nx.watts_strogatz_graph(n=g.number_of_nodes(), k=best_k, p=best_p, seed=best_seed)"
   ]
  },
  {
   "cell_type": "markdown",
   "id": "21de4ac1",
   "metadata": {},
   "source": [
    "Now let's compare degree distributions visually."
   ]
  },
  {
   "cell_type": "code",
   "execution_count": null,
   "id": "8a538c95",
   "metadata": {
    "ExecuteTime": {
     "end_time": "2021-11-11T12:49:08.162410Z",
     "start_time": "2021-11-11T12:49:07.353350Z"
    }
   },
   "outputs": [],
   "source": [
    "degrees_ws = np.array(list(dict(g_ws.degree()).values()))\n",
    "\n",
    "with sns.axes_style('whitegrid'):\n",
    "    plt.figure(figsize=(12, 12))\n",
    "    plt.subplot(2, 1, 1)\n",
    "    sns.histplot(degrees, bins=np.max(degrees))\n",
    "    plt.title('Distribution of degree')\n",
    "    \n",
    "    plt.subplot(2, 1, 2)\n",
    "    sns.histplot(degrees_ws, bins=np.max(degrees_ws))\n",
    "    plt.title('Distribution of degree for WS')\n",
    "    \n",
    "    plt.show()"
   ]
  },
  {
   "cell_type": "markdown",
   "id": "243422ed",
   "metadata": {},
   "source": [
    "It Seems fine in general sense, but there are too small number of values."
   ]
  },
  {
   "cell_type": "markdown",
   "id": "ea2db418",
   "metadata": {},
   "source": [
    "Finally, let's compare average path len and clustering coefficient."
   ]
  },
  {
   "cell_type": "code",
   "execution_count": null,
   "id": "4b590439",
   "metadata": {
    "ExecuteTime": {
     "end_time": "2021-11-11T12:49:09.707108Z",
     "start_time": "2021-11-11T12:49:08.165685Z"
    }
   },
   "outputs": [],
   "source": [
    "connected_components = list(nx.connected_components(g_ws))\n",
    "connected_components.sort(key=lambda x: len(x), reverse=True)\n",
    "biggest_cc = connected_components[0]\n",
    "g_ws_sub = g_ws.subgraph(biggest_cc)\n",
    "\n",
    "average_length = nx.average_shortest_path_length(g_ws_sub)\n",
    "print(f'WS: Average path length: {average_length:.3f}')\n",
    "print(f'WS: Clustering coefficient: {nx.average_clustering(g_ws):.3f}')\n",
    "\n",
    "print_our_graph_parameters()"
   ]
  },
  {
   "cell_type": "markdown",
   "id": "794bc147",
   "metadata": {},
   "source": [
    "These parameters also don't fit well."
   ]
  },
  {
   "cell_type": "markdown",
   "id": "cd9147fb",
   "metadata": {},
   "source": [
    "### Multiplot"
   ]
  },
  {
   "cell_type": "markdown",
   "id": "52f4071b",
   "metadata": {},
   "source": [
    "Plot all four distributions on one canvas."
   ]
  },
  {
   "cell_type": "code",
   "execution_count": null,
   "id": "1485aa45",
   "metadata": {
    "ExecuteTime": {
     "end_time": "2021-11-11T16:46:50.527566Z",
     "start_time": "2021-11-11T16:46:47.207682Z"
    }
   },
   "outputs": [],
   "source": [
    "with sns.axes_style('whitegrid'):\n",
    "    plt.figure(figsize=(20, 12))\n",
    "    plt.subplot(2, 2, 1)\n",
    "    sns.histplot(degrees, bins=np.max(degrees))\n",
    "    plt.title('Distribution of degree in ego-network')\n",
    "    \n",
    "    plt.subplot(2, 2, 2)\n",
    "    sns.histplot(degrees_re, bins=np.max(degrees_re))\n",
    "    plt.title('Distribution of degree for EF')\n",
    "    \n",
    "    plt.subplot(2, 2, 3)\n",
    "    sns.histplot(degrees_ba, bins=np.max(degrees_ba))\n",
    "    plt.title('Distribution of degree for BA')\n",
    "    \n",
    "    plt.subplot(2, 2, 4)\n",
    "    sns.histplot(degrees_ws, bins=np.max(degrees_ws))\n",
    "    plt.title('Distribution of degree for WS')\n",
    "    \n",
    "plt.savefig(os.path.join(FIGURES_PREFIX, 'degree distribution comparison.png'), bbox_inches='tight', dpi=300)\n",
    "plt.show()"
   ]
  },
  {
   "cell_type": "markdown",
   "id": "440346c2",
   "metadata": {},
   "source": [
    "## Centralities and prestige"
   ]
  },
  {
   "cell_type": "markdown",
   "id": "228d562c",
   "metadata": {},
   "source": [
    "In this section we will measure centralities:\n",
    "* Degree: proportional to number of neighbors\n",
    "* Closeness: how close node to all other nodes\n",
    "* Betweenness: number of shortest paths going through the node\n",
    "\n",
    "And prestige Page-Rank."
   ]
  },
  {
   "cell_type": "markdown",
   "id": "aedb8fd5",
   "metadata": {},
   "source": [
    "### Degree"
   ]
  },
  {
   "cell_type": "code",
   "execution_count": null,
   "id": "1a300b72",
   "metadata": {
    "ExecuteTime": {
     "end_time": "2021-11-11T16:58:22.587089Z",
     "start_time": "2021-11-11T16:58:22.577533Z"
    }
   },
   "outputs": [],
   "source": [
    "def visualize_centrality(g, centrality, centrality_name, scale=200, filename=None):\n",
    "    plt.figure(figsize=(16, 9))\n",
    "    layout = nx.kamada_kawai_layout(g)\n",
    "    plt.title(f'Centrality visualization: {centrality_name}')\n",
    "    nx.draw_networkx_nodes(g, pos=layout, node_color='#0066FF', node_size=[value*scale for key, value in centrality.items()])\n",
    "    nx.draw_networkx_edges(g, pos=layout, alpha=0.1)\n",
    "    plt.axis('off')\n",
    "    if filename:\n",
    "        plt.savefig(os.path.join(FIGURES_PREFIX, filename), bbox_inches='tight', dpi=300)\n",
    "    plt.show()"
   ]
  },
  {
   "cell_type": "code",
   "execution_count": null,
   "id": "8b87de02",
   "metadata": {
    "ExecuteTime": {
     "end_time": "2021-11-11T16:58:22.770351Z",
     "start_time": "2021-11-11T16:58:22.761293Z"
    }
   },
   "outputs": [],
   "source": [
    "def df_centrality(g, centrality):\n",
    "    df = pd.DataFrame({'id': list(centrality.keys()), 'centrality': list(centrality.values())})\n",
    "    df['firstname'] = df['id'].apply(lambda x: g.nodes(data=True)[x]['firstname'])\n",
    "    df['lastname'] = df['id'].apply(lambda x: g.nodes(data=True)[x]['lastname'])\n",
    "    return df"
   ]
  },
  {
   "cell_type": "code",
   "execution_count": null,
   "id": "ed415003",
   "metadata": {
    "ExecuteTime": {
     "end_time": "2021-11-11T16:59:01.117591Z",
     "start_time": "2021-11-11T16:58:59.331891Z"
    }
   },
   "outputs": [],
   "source": [
    "degree_centrality = nx.degree_centrality(g)\n",
    "visualize_centrality(g, degree_centrality, 'degree', filename='centrality degree.png')"
   ]
  },
  {
   "cell_type": "code",
   "execution_count": null,
   "id": "91b21d5e",
   "metadata": {
    "ExecuteTime": {
     "end_time": "2021-11-11T16:59:02.427285Z",
     "start_time": "2021-11-11T16:59:02.399183Z"
    }
   },
   "outputs": [],
   "source": [
    "df_centrality(g, degree_centrality).sort_values(by='centrality', ascending=False).head(10)"
   ]
  },
  {
   "cell_type": "markdown",
   "id": "88dff69c",
   "metadata": {},
   "source": [
    "Top friends are people who knows a lot of my other friends. A lot of my friends are studying at the same department in MIPT, so top people have a lot of friends at DIHT MIPT."
   ]
  },
  {
   "cell_type": "markdown",
   "id": "31263003",
   "metadata": {},
   "source": [
    "### Closeness"
   ]
  },
  {
   "cell_type": "code",
   "execution_count": null,
   "id": "44471b08",
   "metadata": {
    "ExecuteTime": {
     "end_time": "2021-11-11T16:59:04.560955Z",
     "start_time": "2021-11-11T16:59:02.968740Z"
    }
   },
   "outputs": [],
   "source": [
    "closeness_centrality = nx.closeness_centrality(g)\n",
    "visualize_centrality(g, closeness_centrality, 'closeness', filename='centrality closeness.png')"
   ]
  },
  {
   "cell_type": "markdown",
   "id": "dad58405",
   "metadata": {},
   "source": [
    "We can see, that a lot of people has approximately the same centrality."
   ]
  },
  {
   "cell_type": "code",
   "execution_count": null,
   "id": "7145fb71",
   "metadata": {
    "ExecuteTime": {
     "end_time": "2021-11-11T16:59:04.589293Z",
     "start_time": "2021-11-11T16:59:04.564803Z"
    }
   },
   "outputs": [],
   "source": [
    "df_centrality(g, closeness_centrality).sort_values(by='centrality', ascending=False).head(10)"
   ]
  },
  {
   "cell_type": "markdown",
   "id": "6a242d74",
   "metadata": {},
   "source": [
    "There are two big groups on the graph:\n",
    "1. University friends.\n",
    "2. School friends.\n",
    "\n",
    "I expected these two groups to be not connected (I studied at small average school), but somehow there is connection through one person, who knows person from my school and from my university. So, two people, who at the top of the list are in the middle of this connection."
   ]
  },
  {
   "cell_type": "markdown",
   "id": "75bc9f52",
   "metadata": {},
   "source": [
    "### Betwenness"
   ]
  },
  {
   "cell_type": "code",
   "execution_count": null,
   "id": "b0be4d71",
   "metadata": {
    "ExecuteTime": {
     "end_time": "2021-11-11T17:01:01.782757Z",
     "start_time": "2021-11-11T17:01:00.143079Z"
    }
   },
   "outputs": [],
   "source": [
    "betweenness_centrality = nx.betweenness_centrality(g)\n",
    "visualize_centrality(g, betweenness_centrality, 'betweenness', filename='centrality betweenness.png')"
   ]
  },
  {
   "cell_type": "markdown",
   "id": "54f3acc6",
   "metadata": {},
   "source": [
    "As expected, there are few nodes with very big centrality, because they connect two subgraphs."
   ]
  },
  {
   "cell_type": "code",
   "execution_count": null,
   "id": "00a5e236",
   "metadata": {
    "ExecuteTime": {
     "end_time": "2021-11-11T17:01:01.806063Z",
     "start_time": "2021-11-11T17:01:01.785582Z"
    }
   },
   "outputs": [],
   "source": [
    "df_centrality(g, betweenness_centrality).sort_values(by='centrality', ascending=False).head(10)"
   ]
  },
  {
   "cell_type": "markdown",
   "id": "d041537a",
   "metadata": {},
   "source": [
    "Explanation remains from the last section, but now it is more obvious."
   ]
  },
  {
   "cell_type": "markdown",
   "id": "fa1c44ea",
   "metadata": {},
   "source": [
    "### Page-Rank"
   ]
  },
  {
   "cell_type": "code",
   "execution_count": null,
   "id": "0ca7f162",
   "metadata": {
    "ExecuteTime": {
     "end_time": "2021-11-11T17:02:32.107094Z",
     "start_time": "2021-11-11T17:02:30.495112Z"
    }
   },
   "outputs": [],
   "source": [
    "page_rank = nx.pagerank(g, max_iter=1000, alpha=0.85)\n",
    "visualize_centrality(g, page_rank, 'Page-Rank', scale=2000, filename='centrality page-rank.png')"
   ]
  },
  {
   "cell_type": "markdown",
   "id": "2db0821f",
   "metadata": {},
   "source": [
    "As expected, there are few nodes with very big centrality, because they connect two subgraphs."
   ]
  },
  {
   "cell_type": "code",
   "execution_count": null,
   "id": "25b753ce",
   "metadata": {
    "ExecuteTime": {
     "end_time": "2021-11-11T17:02:33.796684Z",
     "start_time": "2021-11-11T17:02:33.762960Z"
    }
   },
   "outputs": [],
   "source": [
    "df_centrality(g, page_rank).sort_values(by='centrality', ascending=False).head(10)"
   ]
  },
  {
   "cell_type": "markdown",
   "id": "e93eebe1",
   "metadata": {},
   "source": [
    "The result is rather surprising: top 3 people are person from my school and relatives. I think that they can be though as some kind of dead end nodes."
   ]
  },
  {
   "cell_type": "markdown",
   "id": "7c28f816",
   "metadata": {},
   "source": [
    "### Correlation"
   ]
  },
  {
   "cell_type": "markdown",
   "id": "e6632ee6",
   "metadata": {},
   "source": [
    "Let's look at the correlations of centralities and prestige. I want to use Kendall coefficient, because it is using ranks rather that plain values."
   ]
  },
  {
   "cell_type": "code",
   "execution_count": null,
   "id": "94ed3098",
   "metadata": {
    "ExecuteTime": {
     "end_time": "2021-11-11T17:05:11.383942Z",
     "start_time": "2021-11-11T17:05:11.365718Z"
    }
   },
   "outputs": [],
   "source": [
    "df_centvals = pd.DataFrame({'id': list(degree_centrality.keys()), 'degree': list(degree_centrality.values())})\n",
    "df_centvals['closeness'] = df_centvals['id'].apply(lambda x: closeness_centrality[x])\n",
    "df_centvals['betweenness'] = df_centvals['id'].apply(lambda x: betweenness_centrality[x])\n",
    "df_centvals['page_rank'] = df_centvals['id'].apply(lambda x: page_rank[x])"
   ]
  },
  {
   "cell_type": "code",
   "execution_count": null,
   "id": "d889e9a7",
   "metadata": {
    "ExecuteTime": {
     "end_time": "2021-11-11T17:06:33.665385Z",
     "start_time": "2021-11-11T17:06:32.894154Z"
    }
   },
   "outputs": [],
   "source": [
    "plt.figure(figsize=(12, 6))\n",
    "sns.heatmap(df_centvals.corr('kendall'), annot=True)\n",
    "plt.title('Heatmap of Kendall correlations between centralities and prestige')\n",
    "plt.savefig(os.path.join(FIGURES_PREFIX, 'correlation centralities'), bbox_inches='tight', dpi=300)\n",
    "plt.show()"
   ]
  },
  {
   "cell_type": "markdown",
   "id": "282ed6e4",
   "metadata": {},
   "source": [
    "We can see that the biggest difference with betweenness centrality. Probably, it is because of that bridge. According to betweenness, the biggest centrality will get people, who are closer to the bridge, than to the center of the clusters.\n",
    "\n",
    "Other values are quite similar."
   ]
  },
  {
   "cell_type": "markdown",
   "id": "9ced4d67",
   "metadata": {},
   "source": [
    "## Assortative mixing"
   ]
  },
  {
   "cell_type": "markdown",
   "id": "21df5a49",
   "metadata": {},
   "source": [
    "We will look at properties:\n",
    "* sex\n",
    "* city\n",
    "* university"
   ]
  },
  {
   "cell_type": "code",
   "execution_count": null,
   "id": "63c2938b",
   "metadata": {
    "ExecuteTime": {
     "end_time": "2021-11-11T12:52:50.140888Z",
     "start_time": "2021-11-11T12:52:50.129180Z"
    }
   },
   "outputs": [],
   "source": [
    "def get_mixing_matrix(g, attribute):\n",
    "    values = set()\n",
    "    for node, node_data in g.nodes(data=True):\n",
    "        values.add(node_data[attribute])\n",
    "    mapping = {value: i for i, value in enumerate(values)}\n",
    "    return nx.attribute_mixing_matrix(g, attribute, mapping=mapping), mapping"
   ]
  },
  {
   "cell_type": "code",
   "execution_count": null,
   "id": "2d2ffcdc",
   "metadata": {
    "ExecuteTime": {
     "end_time": "2021-11-11T17:09:20.527524Z",
     "start_time": "2021-11-11T17:09:20.515955Z"
    }
   },
   "outputs": [],
   "source": [
    "def plot_mixing_matrix(matrix, mapping, attribute, annot=False):\n",
    "    plt.figure(figsize=(12, 6))\n",
    "    labels = [x for x in mapping]\n",
    "    sns.heatmap(matrix, xticklabels=labels, yticklabels=labels, annot=annot)\n",
    "    plt.title(f'Assortative mixing by {attribute}')\n",
    "    plt.savefig(os.path.join(FIGURES_PREFIX, f'assortative mixing {attribute}.png'), bbox_inches='tight', dpi=300)\n",
    "    plt.show()"
   ]
  },
  {
   "cell_type": "markdown",
   "id": "64a82c73",
   "metadata": {},
   "source": [
    "### Sex"
   ]
  },
  {
   "cell_type": "code",
   "execution_count": null,
   "id": "808f5a85",
   "metadata": {
    "ExecuteTime": {
     "end_time": "2021-11-11T17:09:21.083733Z",
     "start_time": "2021-11-11T17:09:21.069434Z"
    }
   },
   "outputs": [],
   "source": [
    "sex_matrix, sex_mapping = get_mixing_matrix(g, 'sex')"
   ]
  },
  {
   "cell_type": "code",
   "execution_count": null,
   "id": "1aeb3391",
   "metadata": {
    "ExecuteTime": {
     "end_time": "2021-11-11T17:09:21.274592Z",
     "start_time": "2021-11-11T17:09:21.268870Z"
    }
   },
   "outputs": [],
   "source": [
    "values = [values['sex'] for key, values in g.nodes(data=True)]\n",
    "np.unique(values, return_counts=True)"
   ]
  },
  {
   "cell_type": "code",
   "execution_count": null,
   "id": "d7361142",
   "metadata": {
    "ExecuteTime": {
     "end_time": "2021-11-11T17:09:22.409015Z",
     "start_time": "2021-11-11T17:09:21.807407Z"
    }
   },
   "outputs": [],
   "source": [
    "plot_mixing_matrix(sex_matrix, sex_mapping, 'sex', annot=True)"
   ]
  },
  {
   "cell_type": "markdown",
   "id": "26b7839a",
   "metadata": {},
   "source": [
    "* There are more male friends\n",
    "* They have a connection much more often"
   ]
  },
  {
   "cell_type": "markdown",
   "id": "c3e80c2d",
   "metadata": {},
   "source": [
    "### City"
   ]
  },
  {
   "cell_type": "code",
   "execution_count": null,
   "id": "4fac56c7",
   "metadata": {
    "ExecuteTime": {
     "end_time": "2021-11-11T17:09:22.809847Z",
     "start_time": "2021-11-11T17:09:22.793638Z"
    }
   },
   "outputs": [],
   "source": [
    "city_matrix, city_mapping = get_mixing_matrix(g, 'city')"
   ]
  },
  {
   "cell_type": "code",
   "execution_count": null,
   "id": "0d06489c",
   "metadata": {
    "ExecuteTime": {
     "end_time": "2021-11-11T17:09:22.987945Z",
     "start_time": "2021-11-11T17:09:22.978680Z"
    }
   },
   "outputs": [],
   "source": [
    "values = [values['city'] for key, values in g.nodes(data=True)]\n",
    "values, counts = np.unique(values, return_counts=True)\n",
    "sort_idx = np.argsort(-counts)\n",
    "for value, count in zip(values[sort_idx], counts[sort_idx]):\n",
    "    print(f'Value: {value}, count: {count}')"
   ]
  },
  {
   "cell_type": "code",
   "execution_count": null,
   "id": "40bfbdb0",
   "metadata": {
    "ExecuteTime": {
     "end_time": "2021-11-11T17:09:24.594250Z",
     "start_time": "2021-11-11T17:09:23.155831Z"
    }
   },
   "outputs": [],
   "source": [
    "plot_mixing_matrix(city_matrix, city_mapping, 'city')"
   ]
  },
  {
   "cell_type": "markdown",
   "id": "c1e94760",
   "metadata": {},
   "source": [
    "We can see a strong connection in Moscow. I think it is mostly related to university."
   ]
  },
  {
   "cell_type": "markdown",
   "id": "bcfc5af4",
   "metadata": {},
   "source": [
    "### University"
   ]
  },
  {
   "cell_type": "code",
   "execution_count": null,
   "id": "1c94bcc4",
   "metadata": {
    "ExecuteTime": {
     "end_time": "2021-11-11T17:09:24.606692Z",
     "start_time": "2021-11-11T17:09:24.598611Z"
    }
   },
   "outputs": [],
   "source": [
    "university_matrix, university_mapping = get_mixing_matrix(g, 'university')"
   ]
  },
  {
   "cell_type": "code",
   "execution_count": null,
   "id": "e3220ac7",
   "metadata": {
    "ExecuteTime": {
     "end_time": "2021-11-11T17:09:24.629183Z",
     "start_time": "2021-11-11T17:09:24.610335Z"
    }
   },
   "outputs": [],
   "source": [
    "values = [values['university'] for key, values in g.nodes(data=True)]\n",
    "values, counts = np.unique(values, return_counts=True)\n",
    "sort_idx = np.argsort(-counts)\n",
    "for value, count in zip(values[sort_idx], counts[sort_idx]):\n",
    "    print(f'Value: {value}, count: {count}')"
   ]
  },
  {
   "cell_type": "code",
   "execution_count": null,
   "id": "47c9e8b5",
   "metadata": {
    "ExecuteTime": {
     "end_time": "2021-11-11T17:09:26.986824Z",
     "start_time": "2021-11-11T17:09:24.674748Z"
    }
   },
   "outputs": [],
   "source": [
    "plot_mixing_matrix(university_matrix, university_mapping, 'university')"
   ]
  },
  {
   "cell_type": "markdown",
   "id": "29827da1",
   "metadata": {},
   "source": [
    "* There is a strong connection only withing MIPT"
   ]
  },
  {
   "cell_type": "markdown",
   "id": "5541ddb2",
   "metadata": {},
   "source": [
    "## Similarities"
   ]
  },
  {
   "cell_type": "markdown",
   "id": "30b8dfb6",
   "metadata": {},
   "source": [
    "Now we are going to look at similarities between different nodes:\n",
    "* Adjacency matrix\n",
    "* Pearson correlation\n",
    "* Jaccard similarity\n",
    "* Cosine similarity"
   ]
  },
  {
   "cell_type": "code",
   "execution_count": null,
   "id": "4797dd80",
   "metadata": {
    "ExecuteTime": {
     "end_time": "2021-11-11T17:24:05.239050Z",
     "start_time": "2021-11-11T17:24:05.223462Z"
    }
   },
   "outputs": [],
   "source": [
    "from sklearn.metrics.pairwise import cosine_similarity\n",
    "from scipy.sparse import csr_matrix\n",
    "from scipy.sparse.csgraph import reverse_cuthill_mckee\n",
    "\n",
    "\n",
    "def sim_matrices(G):\n",
    "    A = nx.to_numpy_array(G)\n",
    "    corr = np.corrcoef(A)\n",
    "    J = np.zeros(A.shape)\n",
    "    for i, j, c in nx.jaccard_coefficient(nx.from_numpy_array(A)):\n",
    "        J[i, j] = c\n",
    "        J[j, i] = c\n",
    "    cos = cosine_similarity(A)\n",
    "    return A, corr, J, cos\n",
    "\n",
    "def cm_order(G):\n",
    "    A = nx.to_numpy_array(G)\n",
    "    return reverse_cuthill_mckee(csr_matrix(A), symmetric_mode=True)"
   ]
  },
  {
   "cell_type": "code",
   "execution_count": null,
   "id": "5607ff9e",
   "metadata": {
    "ExecuteTime": {
     "end_time": "2021-11-11T17:24:06.096289Z",
     "start_time": "2021-11-11T17:24:05.638969Z"
    }
   },
   "outputs": [],
   "source": [
    "A, corr, J, cos = sim_matrices(g)\n",
    "order = cm_order(g)"
   ]
  },
  {
   "cell_type": "code",
   "execution_count": null,
   "id": "5263c816",
   "metadata": {
    "ExecuteTime": {
     "end_time": "2021-11-11T17:27:02.468697Z",
     "start_time": "2021-11-11T17:26:56.688760Z"
    }
   },
   "outputs": [],
   "source": [
    "plt.figure(figsize=(20, 9))\n",
    "\n",
    "plt.subplot(2, 2, 1)\n",
    "sns.heatmap(A[np.ix_(order, order)], cmap=plt.cm.Greys)\n",
    "plt.title('Adjacency matrix')\n",
    "\n",
    "plt.subplot(2, 2, 2)\n",
    "sns.heatmap(corr[np.ix_(order, order)])\n",
    "plt.title('Pearson correlation')\n",
    "\n",
    "plt.subplot(2, 2, 3)\n",
    "sns.heatmap(J[np.ix_(order, order)])\n",
    "plt.title('Jaccard similarity')\n",
    "\n",
    "plt.subplot(2, 2, 4)\n",
    "sns.heatmap(cos[np.ix_(order, order)])\n",
    "plt.title('Cosine similarity')\n",
    "\n",
    "plt.tight_layout()\n",
    "plt.savefig(os.path.join(FIGURES_PREFIX, f'similarities.png'), bbox_inches='tight', dpi=300)\n",
    "plt.show()"
   ]
  },
  {
   "cell_type": "markdown",
   "id": "513a0d7e",
   "metadata": {},
   "source": [
    "Let's look at pairs with highest correlation."
   ]
  },
  {
   "cell_type": "code",
   "execution_count": null,
   "id": "117b4a43",
   "metadata": {
    "ExecuteTime": {
     "end_time": "2021-11-11T17:35:27.333068Z",
     "start_time": "2021-11-11T17:35:27.316024Z"
    }
   },
   "outputs": [],
   "source": [
    "def get_df_similarities(similarity):\n",
    "    result_dict = {'first': [], 'second': [], 'similarity': []}\n",
    "    for i in range(similarity.shape[0]):\n",
    "        for j in range(i):\n",
    "            result_dict['similarity'].append(similarity[i, j])\n",
    "            \n",
    "            first_dict = list(g.nodes(data=True))[i][1]\n",
    "            result_dict['first'].append(f\"{first_dict['firstname']} {first_dict['lastname']}\")\n",
    "            \n",
    "            second_dict = list(g.nodes(data=True))[j][1]\n",
    "            result_dict['second'].append(f\"{second_dict['firstname']} {second_dict['lastname']}\")\n",
    "            \n",
    "    return pd.DataFrame(result_dict)"
   ]
  },
  {
   "cell_type": "code",
   "execution_count": null,
   "id": "b00f4379",
   "metadata": {
    "ExecuteTime": {
     "end_time": "2021-11-11T17:35:27.717132Z",
     "start_time": "2021-11-11T17:35:27.516003Z"
    }
   },
   "outputs": [],
   "source": [
    "get_df_similarities(corr).sort_values(by='similarity', ascending=False).head(10)"
   ]
  },
  {
   "cell_type": "markdown",
   "id": "f585b896",
   "metadata": {},
   "source": [
    "* First two positions is a page of the same relative (he lost credentials for one of them)\n",
    "* There are some relatves with little social network activities\n",
    "* There are two people from my town\n",
    "* There are some university friends from the same study group"
   ]
  },
  {
   "cell_type": "code",
   "execution_count": null,
   "id": "5773694e",
   "metadata": {
    "ExecuteTime": {
     "end_time": "2021-11-11T17:35:28.125540Z",
     "start_time": "2021-11-11T17:35:27.905667Z"
    }
   },
   "outputs": [],
   "source": [
    "get_df_similarities(J).sort_values(by='similarity', ascending=False).head(10)"
   ]
  },
  {
   "cell_type": "markdown",
   "id": "8f96205d",
   "metadata": {},
   "source": [
    "There are more university friends and fewer relatives."
   ]
  },
  {
   "cell_type": "code",
   "execution_count": null,
   "id": "ce40a68f",
   "metadata": {
    "ExecuteTime": {
     "end_time": "2021-11-11T17:35:28.886178Z",
     "start_time": "2021-11-11T17:35:28.662390Z"
    }
   },
   "outputs": [],
   "source": [
    "get_df_similarities(cos).sort_values(by='similarity', ascending=False).head(10)"
   ]
  },
  {
   "cell_type": "markdown",
   "id": "138fb53b",
   "metadata": {},
   "source": [
    "The picture is closer to Jaccard similarity."
   ]
  }
 ],
 "metadata": {
  "kernelspec": {
   "display_name": "Python 3 (ipykernel)",
   "language": "python",
   "name": "python3"
  },
  "language_info": {
   "codemirror_mode": {
    "name": "ipython",
    "version": 3
   },
   "file_extension": ".py",
   "mimetype": "text/x-python",
   "name": "python",
   "nbconvert_exporter": "python",
   "pygments_lexer": "ipython3",
   "version": "3.9.7"
  }
 },
 "nbformat": 4,
 "nbformat_minor": 5
}
